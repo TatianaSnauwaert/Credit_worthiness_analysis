{
 "cells": [
  {
   "cell_type": "markdown",
   "metadata": {},
   "source": [
    "# Data preprocessing project\n",
    "# *Credit worthiness analysis*"
   ]
  },
  {
   "cell_type": "markdown",
   "metadata": {
    "toc": true
   },
   "source": [
    "<h1>Table of Contents<span class=\"tocSkip\"></span></h1>\n",
    "<div class=\"toc\"><ul class=\"toc-item\"><li><span><a href=\"#Goal\" data-toc-modified-id=\"Goal-1\"><span class=\"toc-item-num\">1&nbsp;&nbsp;</span><font style=\"vertical-align: inherit;\"><font style=\"vertical-align: inherit;\">Goal</font></font></a></span></li><li><span><a href=\"#Hypothesis\" data-toc-modified-id=\"Hypothesis-2\"><span class=\"toc-item-num\">2&nbsp;&nbsp;</span><font style=\"vertical-align: inherit;\"><font style=\"vertical-align: inherit;\">Hypothesis</font></font></a></span></li><li><span><a href=\"#Description-of-the-data\" data-toc-modified-id=\"Description-of-the-data-3\"><span class=\"toc-item-num\">3&nbsp;&nbsp;</span>Description of the data</a></span></li><li><span><a href=\"#Imports\" data-toc-modified-id=\"Imports-4\"><span class=\"toc-item-num\">4&nbsp;&nbsp;</span>Imports</a></span></li><li><span><a href=\"#Input-data\" data-toc-modified-id=\"Input-data-5\"><span class=\"toc-item-num\">5&nbsp;&nbsp;</span>Input data</a></span></li><li><span><a href=\"#Descriptive-statistics\" data-toc-modified-id=\"Descriptive-statistics-6\"><span class=\"toc-item-num\">6&nbsp;&nbsp;</span>Descriptive statistics</a></span></li><li><span><a href=\"#Unique-values\" data-toc-modified-id=\"Unique-values-7\"><span class=\"toc-item-num\">7&nbsp;&nbsp;</span>Unique values</a></span><ul class=\"toc-item\"><li><span><a href=\"#Education\" data-toc-modified-id=\"Education-7.1\"><span class=\"toc-item-num\">7.1&nbsp;&nbsp;</span>Education</a></span></li><li><span><a href=\"#Family-status\" data-toc-modified-id=\"Family-status-7.2\"><span class=\"toc-item-num\">7.2&nbsp;&nbsp;</span>Family status</a></span></li></ul></li><li><span><a href=\"#Artifacts\" data-toc-modified-id=\"Artifacts-8\"><span class=\"toc-item-num\">8&nbsp;&nbsp;</span>Artifacts</a></span><ul class=\"toc-item\"><li><span><a href=\"#Age-(dob_years)\" data-toc-modified-id=\"Age-(dob_years)-8.1\"><span class=\"toc-item-num\">8.1&nbsp;&nbsp;</span>Age (dob_years)</a></span></li><li><span><a href=\"#Days_employed\" data-toc-modified-id=\"Days_employed-8.2\"><span class=\"toc-item-num\">8.2&nbsp;&nbsp;</span><font style=\"vertical-align: inherit;\"><font style=\"vertical-align: inherit;\">Days_employed</font></font></a></span></li><li><span><a href=\"#Children\" data-toc-modified-id=\"Children-8.3\"><span class=\"toc-item-num\">8.3&nbsp;&nbsp;</span><font style=\"vertical-align: inherit;\"><font style=\"vertical-align: inherit;\">Children</font></font></a></span></li><li><span><a href=\"#Gender\" data-toc-modified-id=\"Gender-8.4\"><span class=\"toc-item-num\">8.4&nbsp;&nbsp;</span><font style=\"vertical-align: inherit;\"><font style=\"vertical-align: inherit;\">Gender</font></font></a></span></li></ul></li><li><span><a href=\"#Missing-values\" data-toc-modified-id=\"Missing-values-9\"><span class=\"toc-item-num\">9&nbsp;&nbsp;</span>Missing values</a></span><ul class=\"toc-item\"><li><span><a href=\"#Total-income\" data-toc-modified-id=\"Total-income-9.1\"><span class=\"toc-item-num\">9.1&nbsp;&nbsp;</span><font style=\"vertical-align: inherit;\"><font style=\"vertical-align: inherit;\">Total income</font></font></a></span></li><li><span><a href=\"#Days-employed\" data-toc-modified-id=\"Days-employed-9.2\"><span class=\"toc-item-num\">9.2&nbsp;&nbsp;</span><font style=\"vertical-align: inherit;\"><font style=\"vertical-align: inherit;\">Days employed</font></font></a></span></li></ul></li><li><span><a href=\"#Data-type-change\" data-toc-modified-id=\"Data-type-change-10\"><span class=\"toc-item-num\">10&nbsp;&nbsp;</span><font style=\"vertical-align: inherit;\"><font style=\"vertical-align: inherit;\">Data type change</font></font></a></span></li><li><span><a href=\"#Duplicates\" data-toc-modified-id=\"Duplicates-11\"><span class=\"toc-item-num\">11&nbsp;&nbsp;</span>Duplicates</a></span></li><li><span><a href=\"#Categorization\" data-toc-modified-id=\"Categorization-12\"><span class=\"toc-item-num\">12&nbsp;&nbsp;</span><font style=\"vertical-align: inherit;\"><font style=\"vertical-align: inherit;\">Categorization</font></font></a></span><ul class=\"toc-item\"><li><span><a href=\"#Income-type\" data-toc-modified-id=\"Income-type-12.1\"><span class=\"toc-item-num\">12.1&nbsp;&nbsp;</span>Income type</a></span></li><li><span><a href=\"#Total-income\" data-toc-modified-id=\"Total-income-12.2\"><span class=\"toc-item-num\">12.2&nbsp;&nbsp;</span>Total income</a></span></li><li><span><a href=\"#Purpose\" data-toc-modified-id=\"Purpose-12.3\"><span class=\"toc-item-num\">12.3&nbsp;&nbsp;</span>Purpose</a></span></li><li><span><a href=\"#Days-employed-bins\" data-toc-modified-id=\"Days-employed-bins-12.4\"><span class=\"toc-item-num\">12.4&nbsp;&nbsp;</span>Days employed bins</a></span></li></ul></li><li><span><a href=\"#Final-df\" data-toc-modified-id=\"Final-df-13\"><span class=\"toc-item-num\">13&nbsp;&nbsp;</span>Final df</a></span></li><li><span><a href=\"#Link-between-children-and-debt\" data-toc-modified-id=\"Link-between-children-and-debt-14\"><span class=\"toc-item-num\">14&nbsp;&nbsp;</span>Link between children and debt</a></span></li><li><span><a href=\"#Link-between-family-status-and-debt\" data-toc-modified-id=\"Link-between-family-status-and-debt-15\"><span class=\"toc-item-num\">15&nbsp;&nbsp;</span>Link between family status and debt</a></span></li><li><span><a href=\"#Link-between-income-level-and-debt\" data-toc-modified-id=\"Link-between-income-level-and-debt-16\"><span class=\"toc-item-num\">16&nbsp;&nbsp;</span>Link between income level and debt</a></span></li><li><span><a href=\"#Link-between-education-and-debt\" data-toc-modified-id=\"Link-between-education-and-debt-17\"><span class=\"toc-item-num\">17&nbsp;&nbsp;</span>Link between education and debt</a></span></li><li><span><a href=\"#Link-between-loan-purpose-and-debt\" data-toc-modified-id=\"Link-between-loan-purpose-and-debt-18\"><span class=\"toc-item-num\">18&nbsp;&nbsp;</span>Link between loan purpose and debt</a></span></li><li><span><a href=\"#Link-between-age-and-debt\" data-toc-modified-id=\"Link-between-age-and-debt-19\"><span class=\"toc-item-num\">19&nbsp;&nbsp;</span>Link between age and debt</a></span></li><li><span><a href=\"#Link-between-gender-and-debt\" data-toc-modified-id=\"Link-between-gender-and-debt-20\"><span class=\"toc-item-num\">20&nbsp;&nbsp;</span>Link between gender and debt</a></span></li></ul></div>"
   ]
  },
  {
   "cell_type": "markdown",
   "metadata": {},
   "source": [
    "### Goal\n",
    "Prepare a report for a bank’s loan division to find out if a customer’s marital status, number of children, income and education level, loan purpose, gender and age have an impact on whether they will default on a loan. "
   ]
  },
  {
   "cell_type": "markdown",
   "metadata": {},
   "source": [
    "### Hypothesis\n",
    "Based on common sense, we predict the following tendencies:\n",
    "1. The more children a client has, the higher the default rate as they have more expenses;\n",
    "2. Married people have lower default rates as the spouses support each other in case of difficulties;\n",
    "3. The higher the income level, the lower the default rate because the financial situation in this case is more stable;\n",
    "4. The higher the education level, the lower the default rate because there is a higher chance to find a well-paid job;\n",
    "5. The more expensive a purpose of a loan, the higher the chances that a loan will be paid off;\n",
    "6. Younger people have the highest default rates because of the less stable financial situation (on average), while senior people (in terms of work experience) have the lowest default rates;\n",
    "7. Men default less often on a loan as on average they have higher income level."
   ]
  },
  {
   "cell_type": "markdown",
   "metadata": {},
   "source": [
    "### Description of the data\n",
    "\n",
    "- `children`: the number of children in the family\n",
    "- `days_employed`: how long the customer has been working\n",
    "- `dob_years`: the customer’s age\n",
    "- `education`: the customer’s education level\n",
    "- `education_id`: identifier for the customer’s education\n",
    "- `family_status`: the customer’s marital status\n",
    "- `family_status_id`: identifier for the customer’s marital status\n",
    "- `gender`: the customer’s gender\n",
    "- `income_type`: the customer’s income type\n",
    "- `debt`: whether the customer has ever defaulted on a loan\n",
    "- `total_income`: monthly income\n",
    "- `purpose`: reason for taking out a loan"
   ]
  },
  {
   "cell_type": "markdown",
   "metadata": {},
   "source": [
    "### Imports"
   ]
  },
  {
   "cell_type": "code",
   "execution_count": 1085,
   "metadata": {},
   "outputs": [
    {
     "name": "stdout",
     "output_type": "stream",
     "text": [
      "Setup Complete\n"
     ]
    }
   ],
   "source": [
    "import pandas as pd\n",
    "import seaborn as sns\n",
    "import numpy as np\n",
    "\n",
    "from nltk.stem import SnowballStemmer \n",
    "english_stemmer = SnowballStemmer('english')\n",
    "import matplotlib.pyplot as plt\n",
    "%matplotlib inline\n",
    "\n",
    "print(\"Setup Complete\")"
   ]
  },
  {
   "cell_type": "markdown",
   "metadata": {},
   "source": [
    "### Input data"
   ]
  },
  {
   "cell_type": "code",
   "execution_count": 1086,
   "metadata": {},
   "outputs": [
    {
     "data": {
      "text/html": [
       "<div>\n",
       "<style scoped>\n",
       "    .dataframe tbody tr th:only-of-type {\n",
       "        vertical-align: middle;\n",
       "    }\n",
       "\n",
       "    .dataframe tbody tr th {\n",
       "        vertical-align: top;\n",
       "    }\n",
       "\n",
       "    .dataframe thead th {\n",
       "        text-align: right;\n",
       "    }\n",
       "</style>\n",
       "<table border=\"1\" class=\"dataframe\">\n",
       "  <thead>\n",
       "    <tr style=\"text-align: right;\">\n",
       "      <th></th>\n",
       "      <th>children</th>\n",
       "      <th>days_employed</th>\n",
       "      <th>dob_years</th>\n",
       "      <th>education</th>\n",
       "      <th>education_id</th>\n",
       "      <th>family_status</th>\n",
       "      <th>family_status_id</th>\n",
       "      <th>gender</th>\n",
       "      <th>income_type</th>\n",
       "      <th>debt</th>\n",
       "      <th>total_income</th>\n",
       "      <th>purpose</th>\n",
       "    </tr>\n",
       "  </thead>\n",
       "  <tbody>\n",
       "    <tr>\n",
       "      <th>0</th>\n",
       "      <td>1</td>\n",
       "      <td>-8437.673028</td>\n",
       "      <td>42</td>\n",
       "      <td>bachelor's degree</td>\n",
       "      <td>0</td>\n",
       "      <td>married</td>\n",
       "      <td>0</td>\n",
       "      <td>F</td>\n",
       "      <td>employee</td>\n",
       "      <td>0</td>\n",
       "      <td>40620.102</td>\n",
       "      <td>purchase of the house</td>\n",
       "    </tr>\n",
       "    <tr>\n",
       "      <th>1</th>\n",
       "      <td>1</td>\n",
       "      <td>-4024.803754</td>\n",
       "      <td>36</td>\n",
       "      <td>secondary education</td>\n",
       "      <td>1</td>\n",
       "      <td>married</td>\n",
       "      <td>0</td>\n",
       "      <td>F</td>\n",
       "      <td>employee</td>\n",
       "      <td>0</td>\n",
       "      <td>17932.802</td>\n",
       "      <td>car purchase</td>\n",
       "    </tr>\n",
       "    <tr>\n",
       "      <th>2</th>\n",
       "      <td>0</td>\n",
       "      <td>-5623.422610</td>\n",
       "      <td>33</td>\n",
       "      <td>Secondary Education</td>\n",
       "      <td>1</td>\n",
       "      <td>married</td>\n",
       "      <td>0</td>\n",
       "      <td>M</td>\n",
       "      <td>employee</td>\n",
       "      <td>0</td>\n",
       "      <td>23341.752</td>\n",
       "      <td>purchase of the house</td>\n",
       "    </tr>\n",
       "    <tr>\n",
       "      <th>3</th>\n",
       "      <td>3</td>\n",
       "      <td>-4124.747207</td>\n",
       "      <td>32</td>\n",
       "      <td>secondary education</td>\n",
       "      <td>1</td>\n",
       "      <td>married</td>\n",
       "      <td>0</td>\n",
       "      <td>M</td>\n",
       "      <td>employee</td>\n",
       "      <td>0</td>\n",
       "      <td>42820.568</td>\n",
       "      <td>supplementary education</td>\n",
       "    </tr>\n",
       "    <tr>\n",
       "      <th>4</th>\n",
       "      <td>0</td>\n",
       "      <td>340266.072047</td>\n",
       "      <td>53</td>\n",
       "      <td>secondary education</td>\n",
       "      <td>1</td>\n",
       "      <td>civil partnership</td>\n",
       "      <td>1</td>\n",
       "      <td>F</td>\n",
       "      <td>retiree</td>\n",
       "      <td>0</td>\n",
       "      <td>25378.572</td>\n",
       "      <td>to have a wedding</td>\n",
       "    </tr>\n",
       "    <tr>\n",
       "      <th>5</th>\n",
       "      <td>0</td>\n",
       "      <td>-926.185831</td>\n",
       "      <td>27</td>\n",
       "      <td>bachelor's degree</td>\n",
       "      <td>0</td>\n",
       "      <td>civil partnership</td>\n",
       "      <td>1</td>\n",
       "      <td>M</td>\n",
       "      <td>business</td>\n",
       "      <td>0</td>\n",
       "      <td>40922.170</td>\n",
       "      <td>purchase of the house</td>\n",
       "    </tr>\n",
       "    <tr>\n",
       "      <th>6</th>\n",
       "      <td>0</td>\n",
       "      <td>-2879.202052</td>\n",
       "      <td>43</td>\n",
       "      <td>bachelor's degree</td>\n",
       "      <td>0</td>\n",
       "      <td>married</td>\n",
       "      <td>0</td>\n",
       "      <td>F</td>\n",
       "      <td>business</td>\n",
       "      <td>0</td>\n",
       "      <td>38484.156</td>\n",
       "      <td>housing transactions</td>\n",
       "    </tr>\n",
       "    <tr>\n",
       "      <th>7</th>\n",
       "      <td>0</td>\n",
       "      <td>-152.779569</td>\n",
       "      <td>50</td>\n",
       "      <td>SECONDARY EDUCATION</td>\n",
       "      <td>1</td>\n",
       "      <td>married</td>\n",
       "      <td>0</td>\n",
       "      <td>M</td>\n",
       "      <td>employee</td>\n",
       "      <td>0</td>\n",
       "      <td>21731.829</td>\n",
       "      <td>education</td>\n",
       "    </tr>\n",
       "    <tr>\n",
       "      <th>8</th>\n",
       "      <td>2</td>\n",
       "      <td>-6929.865299</td>\n",
       "      <td>35</td>\n",
       "      <td>BACHELOR'S DEGREE</td>\n",
       "      <td>0</td>\n",
       "      <td>civil partnership</td>\n",
       "      <td>1</td>\n",
       "      <td>F</td>\n",
       "      <td>employee</td>\n",
       "      <td>0</td>\n",
       "      <td>15337.093</td>\n",
       "      <td>having a wedding</td>\n",
       "    </tr>\n",
       "    <tr>\n",
       "      <th>9</th>\n",
       "      <td>0</td>\n",
       "      <td>-2188.756445</td>\n",
       "      <td>41</td>\n",
       "      <td>secondary education</td>\n",
       "      <td>1</td>\n",
       "      <td>married</td>\n",
       "      <td>0</td>\n",
       "      <td>M</td>\n",
       "      <td>employee</td>\n",
       "      <td>0</td>\n",
       "      <td>23108.150</td>\n",
       "      <td>purchase of the house for my family</td>\n",
       "    </tr>\n",
       "  </tbody>\n",
       "</table>\n",
       "</div>"
      ],
      "text/plain": [
       "   children  days_employed  dob_years            education  education_id  \\\n",
       "0         1   -8437.673028         42    bachelor's degree             0   \n",
       "1         1   -4024.803754         36  secondary education             1   \n",
       "2         0   -5623.422610         33  Secondary Education             1   \n",
       "3         3   -4124.747207         32  secondary education             1   \n",
       "4         0  340266.072047         53  secondary education             1   \n",
       "5         0    -926.185831         27    bachelor's degree             0   \n",
       "6         0   -2879.202052         43    bachelor's degree             0   \n",
       "7         0    -152.779569         50  SECONDARY EDUCATION             1   \n",
       "8         2   -6929.865299         35    BACHELOR'S DEGREE             0   \n",
       "9         0   -2188.756445         41  secondary education             1   \n",
       "\n",
       "       family_status  family_status_id gender income_type  debt  total_income  \\\n",
       "0            married                 0      F    employee     0     40620.102   \n",
       "1            married                 0      F    employee     0     17932.802   \n",
       "2            married                 0      M    employee     0     23341.752   \n",
       "3            married                 0      M    employee     0     42820.568   \n",
       "4  civil partnership                 1      F     retiree     0     25378.572   \n",
       "5  civil partnership                 1      M    business     0     40922.170   \n",
       "6            married                 0      F    business     0     38484.156   \n",
       "7            married                 0      M    employee     0     21731.829   \n",
       "8  civil partnership                 1      F    employee     0     15337.093   \n",
       "9            married                 0      M    employee     0     23108.150   \n",
       "\n",
       "                               purpose  \n",
       "0                purchase of the house  \n",
       "1                         car purchase  \n",
       "2                purchase of the house  \n",
       "3              supplementary education  \n",
       "4                    to have a wedding  \n",
       "5                purchase of the house  \n",
       "6                 housing transactions  \n",
       "7                            education  \n",
       "8                     having a wedding  \n",
       "9  purchase of the house for my family  "
      ]
     },
     "execution_count": 1086,
     "metadata": {},
     "output_type": "execute_result"
    }
   ],
   "source": [
    "# Read the csv file with the input data and examine the first 10 rows of the data\n",
    "df = pd.read_csv('credit_scoring_eng.csv')\n",
    "df.head(10)"
   ]
  },
  {
   "cell_type": "markdown",
   "metadata": {},
   "source": [
    "Notes based on the table above:\n",
    "- Check if 'education_id' correctly reflects the 'education' column and if so, get rid of the 'education' column, since duplicate columns make analysis less transparent; Same situation with 'family_status' but we will keep both columns for now because the id representation in this case is not as intuitive as with the education;\n",
    "- 'Days_employed' column has negative values, it needs to be corrected;\n",
    "- 'Purpose' column -> reduce the number of categories (and make them more clear: purchase of the house -> house)"
   ]
  },
  {
   "cell_type": "markdown",
   "metadata": {},
   "source": [
    "### Descriptive statistics"
   ]
  },
  {
   "cell_type": "code",
   "execution_count": 1087,
   "metadata": {},
   "outputs": [
    {
     "name": "stdout",
     "output_type": "stream",
     "text": [
      "<class 'pandas.core.frame.DataFrame'>\n",
      "RangeIndex: 21525 entries, 0 to 21524\n",
      "Data columns (total 12 columns):\n",
      " #   Column            Non-Null Count  Dtype  \n",
      "---  ------            --------------  -----  \n",
      " 0   children          21525 non-null  int64  \n",
      " 1   days_employed     19351 non-null  float64\n",
      " 2   dob_years         21525 non-null  int64  \n",
      " 3   education         21525 non-null  object \n",
      " 4   education_id      21525 non-null  int64  \n",
      " 5   family_status     21525 non-null  object \n",
      " 6   family_status_id  21525 non-null  int64  \n",
      " 7   gender            21525 non-null  object \n",
      " 8   income_type       21525 non-null  object \n",
      " 9   debt              21525 non-null  int64  \n",
      " 10  total_income      19351 non-null  float64\n",
      " 11  purpose           21525 non-null  object \n",
      "dtypes: float64(2), int64(5), object(5)\n",
      "memory usage: 2.0+ MB\n"
     ]
    }
   ],
   "source": [
    "# Check the general information about this df\n",
    "df.info()"
   ]
  },
  {
   "cell_type": "markdown",
   "metadata": {},
   "source": [
    "From the table above we can make the following conclusions:\n",
    "- The data set includes 21525 observations and 12 columns;\n",
    "- The \"debt\" column contains the numerical labels and the other 11 columns are features;\n",
    "- 6 features are numerical, the other 5 are categorical;\n",
    "- Float data type should be changed to integer;\n",
    "- Values are missing in the 'days_employed' and 'total_income columns'; The number of missing values (2174) is the same in both columns. Since the data is based on the credit history of customers and people are required to provide this information in order to get a loan, both these variables must have been filled. Probably, they are missing due to some technical errors;\n",
    "- The column names seem to be correct."
   ]
  },
  {
   "cell_type": "code",
   "execution_count": 1088,
   "metadata": {},
   "outputs": [
    {
     "data": {
      "text/html": [
       "<div>\n",
       "<style scoped>\n",
       "    .dataframe tbody tr th:only-of-type {\n",
       "        vertical-align: middle;\n",
       "    }\n",
       "\n",
       "    .dataframe tbody tr th {\n",
       "        vertical-align: top;\n",
       "    }\n",
       "\n",
       "    .dataframe thead th {\n",
       "        text-align: right;\n",
       "    }\n",
       "</style>\n",
       "<table border=\"1\" class=\"dataframe\">\n",
       "  <thead>\n",
       "    <tr style=\"text-align: right;\">\n",
       "      <th></th>\n",
       "      <th>children</th>\n",
       "      <th>days_employed</th>\n",
       "      <th>dob_years</th>\n",
       "      <th>education_id</th>\n",
       "      <th>family_status_id</th>\n",
       "      <th>debt</th>\n",
       "      <th>total_income</th>\n",
       "    </tr>\n",
       "  </thead>\n",
       "  <tbody>\n",
       "    <tr>\n",
       "      <th>count</th>\n",
       "      <td>21525.000000</td>\n",
       "      <td>19351.000000</td>\n",
       "      <td>21525.000000</td>\n",
       "      <td>21525.000000</td>\n",
       "      <td>21525.000000</td>\n",
       "      <td>21525.000000</td>\n",
       "      <td>19351.000000</td>\n",
       "    </tr>\n",
       "    <tr>\n",
       "      <th>mean</th>\n",
       "      <td>0.538908</td>\n",
       "      <td>63046.497661</td>\n",
       "      <td>43.293380</td>\n",
       "      <td>0.817236</td>\n",
       "      <td>0.972544</td>\n",
       "      <td>0.080883</td>\n",
       "      <td>26787.568355</td>\n",
       "    </tr>\n",
       "    <tr>\n",
       "      <th>std</th>\n",
       "      <td>1.381587</td>\n",
       "      <td>140827.311974</td>\n",
       "      <td>12.574584</td>\n",
       "      <td>0.548138</td>\n",
       "      <td>1.420324</td>\n",
       "      <td>0.272661</td>\n",
       "      <td>16475.450632</td>\n",
       "    </tr>\n",
       "    <tr>\n",
       "      <th>min</th>\n",
       "      <td>-1.000000</td>\n",
       "      <td>-18388.949901</td>\n",
       "      <td>0.000000</td>\n",
       "      <td>0.000000</td>\n",
       "      <td>0.000000</td>\n",
       "      <td>0.000000</td>\n",
       "      <td>3306.762000</td>\n",
       "    </tr>\n",
       "    <tr>\n",
       "      <th>25%</th>\n",
       "      <td>0.000000</td>\n",
       "      <td>-2747.423625</td>\n",
       "      <td>33.000000</td>\n",
       "      <td>1.000000</td>\n",
       "      <td>0.000000</td>\n",
       "      <td>0.000000</td>\n",
       "      <td>16488.504500</td>\n",
       "    </tr>\n",
       "    <tr>\n",
       "      <th>50%</th>\n",
       "      <td>0.000000</td>\n",
       "      <td>-1203.369529</td>\n",
       "      <td>42.000000</td>\n",
       "      <td>1.000000</td>\n",
       "      <td>0.000000</td>\n",
       "      <td>0.000000</td>\n",
       "      <td>23202.870000</td>\n",
       "    </tr>\n",
       "    <tr>\n",
       "      <th>75%</th>\n",
       "      <td>1.000000</td>\n",
       "      <td>-291.095954</td>\n",
       "      <td>53.000000</td>\n",
       "      <td>1.000000</td>\n",
       "      <td>1.000000</td>\n",
       "      <td>0.000000</td>\n",
       "      <td>32549.611000</td>\n",
       "    </tr>\n",
       "    <tr>\n",
       "      <th>max</th>\n",
       "      <td>20.000000</td>\n",
       "      <td>401755.400475</td>\n",
       "      <td>75.000000</td>\n",
       "      <td>4.000000</td>\n",
       "      <td>4.000000</td>\n",
       "      <td>1.000000</td>\n",
       "      <td>362496.645000</td>\n",
       "    </tr>\n",
       "  </tbody>\n",
       "</table>\n",
       "</div>"
      ],
      "text/plain": [
       "           children  days_employed     dob_years  education_id  \\\n",
       "count  21525.000000   19351.000000  21525.000000  21525.000000   \n",
       "mean       0.538908   63046.497661     43.293380      0.817236   \n",
       "std        1.381587  140827.311974     12.574584      0.548138   \n",
       "min       -1.000000  -18388.949901      0.000000      0.000000   \n",
       "25%        0.000000   -2747.423625     33.000000      1.000000   \n",
       "50%        0.000000   -1203.369529     42.000000      1.000000   \n",
       "75%        1.000000    -291.095954     53.000000      1.000000   \n",
       "max       20.000000  401755.400475     75.000000      4.000000   \n",
       "\n",
       "       family_status_id          debt   total_income  \n",
       "count      21525.000000  21525.000000   19351.000000  \n",
       "mean           0.972544      0.080883   26787.568355  \n",
       "std            1.420324      0.272661   16475.450632  \n",
       "min            0.000000      0.000000    3306.762000  \n",
       "25%            0.000000      0.000000   16488.504500  \n",
       "50%            0.000000      0.000000   23202.870000  \n",
       "75%            1.000000      0.000000   32549.611000  \n",
       "max            4.000000      1.000000  362496.645000  "
      ]
     },
     "execution_count": 1088,
     "metadata": {},
     "output_type": "execute_result"
    }
   ],
   "source": [
    "# Summarize the central tendency, dispersion and shape of the dataset’s distribution\n",
    "df.describe()"
   ]
  },
  {
   "cell_type": "markdown",
   "metadata": {},
   "source": [
    "From the table above we can make the following conclusions:\n",
    "- The minimum value of -1 in 'children' column is an error that should be fixed. On average people in this data set have 0-1 children with the maximum of 20 (maybe check this number too);\n",
    "- The min 'dob_years' is 0 which is also an error, need to find a way to fix it. On average, people in their 40s are taking a loan;\n",
    "- Most people in the data set did not default on a loan as the mean value of the 'debt' column is much closer to 0 than to 1 (0.08);"
   ]
  },
  {
   "cell_type": "markdown",
   "metadata": {},
   "source": [
    "### Unique values\n",
    "#### Education"
   ]
  },
  {
   "cell_type": "code",
   "execution_count": 1089,
   "metadata": {},
   "outputs": [
    {
     "data": {
      "text/plain": [
       "secondary education    15233\n",
       "bachelor's degree       5260\n",
       "some college             744\n",
       "primary education        282\n",
       "graduate degree            6\n",
       "Name: education, dtype: int64"
      ]
     },
     "execution_count": 1089,
     "metadata": {},
     "output_type": "execute_result"
    }
   ],
   "source": [
    "df['education'].str.lower().value_counts()"
   ]
  },
  {
   "cell_type": "code",
   "execution_count": 1090,
   "metadata": {},
   "outputs": [
    {
     "data": {
      "text/plain": [
       "1    15233\n",
       "0     5260\n",
       "2      744\n",
       "3      282\n",
       "4        6\n",
       "Name: education_id, dtype: int64"
      ]
     },
     "execution_count": 1090,
     "metadata": {},
     "output_type": "execute_result"
    }
   ],
   "source": [
    "df['education_id'].value_counts()"
   ]
  },
  {
   "cell_type": "markdown",
   "metadata": {},
   "source": [
    "After having changed all strings in the 'education' column to lower case, we see that the numbers for each group are exactly the same, meaning no error in data. We will omit the 'education' column from our final data frame."
   ]
  },
  {
   "cell_type": "markdown",
   "metadata": {},
   "source": [
    "#### Family status"
   ]
  },
  {
   "cell_type": "code",
   "execution_count": 1091,
   "metadata": {},
   "outputs": [
    {
     "data": {
      "text/plain": [
       "married              12380\n",
       "civil partnership     4177\n",
       "unmarried             2813\n",
       "divorced              1195\n",
       "widow / widower        960\n",
       "Name: family_status, dtype: int64"
      ]
     },
     "execution_count": 1091,
     "metadata": {},
     "output_type": "execute_result"
    }
   ],
   "source": [
    "df['family_status'].str.lower().value_counts()"
   ]
  },
  {
   "cell_type": "code",
   "execution_count": 1092,
   "metadata": {},
   "outputs": [
    {
     "data": {
      "text/plain": [
       "0    12380\n",
       "1     4177\n",
       "4     2813\n",
       "3     1195\n",
       "2      960\n",
       "Name: family_status_id, dtype: int64"
      ]
     },
     "execution_count": 1092,
     "metadata": {},
     "output_type": "execute_result"
    }
   ],
   "source": [
    "df['family_status_id'].value_counts()"
   ]
  },
  {
   "cell_type": "markdown",
   "metadata": {},
   "source": [
    "We can see the same situation, the numbers are matching, we don't need both columns as they have the same data. In our final df we will keep the 'family_status' column as it is more descriptive."
   ]
  },
  {
   "cell_type": "markdown",
   "metadata": {},
   "source": [
    "### Artifacts"
   ]
  },
  {
   "cell_type": "markdown",
   "metadata": {},
   "source": [
    "#### Age (dob_years)"
   ]
  },
  {
   "cell_type": "code",
   "execution_count": 1093,
   "metadata": {},
   "outputs": [
    {
     "data": {
      "text/plain": [
       "<matplotlib.axes._subplots.AxesSubplot at 0x1a2aab4090>"
      ]
     },
     "execution_count": 1093,
     "metadata": {},
     "output_type": "execute_result"
    },
    {
     "data": {
      "image/png": "[encoded data removed]",
      "text/plain": [
       "<Figure size 720x432 with 1 Axes>"
      ]
     },
     "metadata": {
      "needs_background": "light"
     },
     "output_type": "display_data"
    }
   ],
   "source": [
    "plt.figure(figsize=(10,6))\n",
    "sns.distplot(df[\"dob_years\"], kde=False)"
   ]
  },
  {
   "cell_type": "markdown",
   "metadata": {},
   "source": [
    "The age in the dataset ranges from around 20 to 70 years old. We see an error where age = 0, let's fix that first. We will replace 0 with the median age of the whole column."
   ]
  },
  {
   "cell_type": "code",
   "execution_count": 1094,
   "metadata": {},
   "outputs": [],
   "source": [
    "df.loc[df['dob_years'] == 0, 'dob_years'] = df['dob_years'].median()"
   ]
  },
  {
   "cell_type": "markdown",
   "metadata": {},
   "source": [
    "Let's also calculate the maximum age of this dataset. We will use it to identify the maximum possible value in the 'days_employed' column."
   ]
  },
  {
   "cell_type": "code",
   "execution_count": 1095,
   "metadata": {},
   "outputs": [
    {
     "data": {
      "text/plain": [
       "75.0"
      ]
     },
     "execution_count": 1095,
     "metadata": {},
     "output_type": "execute_result"
    }
   ],
   "source": [
    "df['dob_years'].max()"
   ]
  },
  {
   "cell_type": "code",
   "execution_count": 1096,
   "metadata": {},
   "outputs": [],
   "source": [
    "df['dob_years'] = df['dob_years'].astype(int)"
   ]
  },
  {
   "cell_type": "markdown",
   "metadata": {},
   "source": [
    "#### Days_employed\n",
    "First of all, let's get rid of negative values. The values themselves are reasonable, so it looks like there has been an error with the sign of the value. We will correct it by multiplying all the negative values by -1."
   ]
  },
  {
   "cell_type": "code",
   "execution_count": 1097,
   "metadata": {},
   "outputs": [],
   "source": [
    "df.loc[df['days_employed'] < 0, 'days_employed'] = df.loc[df['days_employed'] < 0, 'days_employed']*(-1)"
   ]
  },
  {
   "cell_type": "markdown",
   "metadata": {},
   "source": [
    "As we have calculated before, the maximum age of this dataset is 75. If we multiply it by 252 (assumed average working days a year) we get 18 900 days - the maximum possible number of working days (even less actually as one doesn't start working right after he was born but let's keep this value to have some kind of a baseline). We will thus replace all the values exceeding 18 900 first with 'NaN' and then all the missing values together will be replaced by the median value for each age group because on average the older a person gets the more days he has been working."
   ]
  },
  {
   "cell_type": "code",
   "execution_count": 1098,
   "metadata": {},
   "outputs": [],
   "source": [
    "df.loc[df['days_employed'] > 18900, 'days_employed'] = np.nan"
   ]
  },
  {
   "cell_type": "markdown",
   "metadata": {},
   "source": [
    "#### Children"
   ]
  },
  {
   "cell_type": "code",
   "execution_count": 1099,
   "metadata": {},
   "outputs": [
    {
     "data": {
      "text/plain": [
       " 0     14149\n",
       " 1      4818\n",
       " 2      2055\n",
       " 3       330\n",
       " 20       76\n",
       "-1        47\n",
       " 4        41\n",
       " 5         9\n",
       "Name: children, dtype: int64"
      ]
     },
     "execution_count": 1099,
     "metadata": {},
     "output_type": "execute_result"
    }
   ],
   "source": [
    "df['children'].value_counts()"
   ]
  },
  {
   "cell_type": "markdown",
   "metadata": {},
   "source": [
    "We see 47 rows with a negative value of -1 in the 'children' column. It could be either a human or a technical error. As the number of missing observations is insignificant (0.002) we will remove these values. The values of 20 in the children column is also suspicious but technically possible (considering foster children). As we don't have any additional information about it and it's also just a fraction of a dataset, let's keep them."
   ]
  },
  {
   "cell_type": "code",
   "execution_count": 1100,
   "metadata": {},
   "outputs": [],
   "source": [
    "df = df[df['children'] != -1]"
   ]
  },
  {
   "cell_type": "markdown",
   "metadata": {},
   "source": [
    "#### Gender"
   ]
  },
  {
   "cell_type": "code",
   "execution_count": 1101,
   "metadata": {},
   "outputs": [
    {
     "data": {
      "text/plain": [
       "F      14201\n",
       "M       7276\n",
       "XNA        1\n",
       "Name: gender, dtype: int64"
      ]
     },
     "execution_count": 1101,
     "metadata": {},
     "output_type": "execute_result"
    }
   ],
   "source": [
    "df['gender'].value_counts()"
   ]
  },
  {
   "cell_type": "code",
   "execution_count": 1102,
   "metadata": {},
   "outputs": [
    {
     "data": {
      "text/html": [
       "<div>\n",
       "<style scoped>\n",
       "    .dataframe tbody tr th:only-of-type {\n",
       "        vertical-align: middle;\n",
       "    }\n",
       "\n",
       "    .dataframe tbody tr th {\n",
       "        vertical-align: top;\n",
       "    }\n",
       "\n",
       "    .dataframe thead th {\n",
       "        text-align: right;\n",
       "    }\n",
       "</style>\n",
       "<table border=\"1\" class=\"dataframe\">\n",
       "  <thead>\n",
       "    <tr style=\"text-align: right;\">\n",
       "      <th></th>\n",
       "      <th>children</th>\n",
       "      <th>days_employed</th>\n",
       "      <th>dob_years</th>\n",
       "      <th>education</th>\n",
       "      <th>education_id</th>\n",
       "      <th>family_status</th>\n",
       "      <th>family_status_id</th>\n",
       "      <th>gender</th>\n",
       "      <th>income_type</th>\n",
       "      <th>debt</th>\n",
       "      <th>total_income</th>\n",
       "      <th>purpose</th>\n",
       "    </tr>\n",
       "  </thead>\n",
       "  <tbody>\n",
       "    <tr>\n",
       "      <th>10701</th>\n",
       "      <td>0</td>\n",
       "      <td>2358.600502</td>\n",
       "      <td>24</td>\n",
       "      <td>some college</td>\n",
       "      <td>2</td>\n",
       "      <td>civil partnership</td>\n",
       "      <td>1</td>\n",
       "      <td>XNA</td>\n",
       "      <td>business</td>\n",
       "      <td>0</td>\n",
       "      <td>32624.825</td>\n",
       "      <td>buy real estate</td>\n",
       "    </tr>\n",
       "  </tbody>\n",
       "</table>\n",
       "</div>"
      ],
      "text/plain": [
       "       children  days_employed  dob_years     education  education_id  \\\n",
       "10701         0    2358.600502         24  some college             2   \n",
       "\n",
       "           family_status  family_status_id gender income_type  debt  \\\n",
       "10701  civil partnership                 1    XNA    business     0   \n",
       "\n",
       "       total_income          purpose  \n",
       "10701     32624.825  buy real estate  "
      ]
     },
     "execution_count": 1102,
     "metadata": {},
     "output_type": "execute_result"
    }
   ],
   "source": [
    "df[df['gender'] == 'XNA']"
   ]
  },
  {
   "cell_type": "markdown",
   "metadata": {},
   "source": [
    "Interestingly, twice as many female than male clients! \n",
    "\n",
    "We see one row has a values of 'XNA'. Most likely an error. All other columns are filled, so in order not to loose valuable information let's fill it with the median value for this column."
   ]
  },
  {
   "cell_type": "code",
   "execution_count": 1103,
   "metadata": {},
   "outputs": [],
   "source": [
    "df.loc[df['gender'] == 'XNA', 'gender'] = 'F'"
   ]
  },
  {
   "cell_type": "markdown",
   "metadata": {},
   "source": [
    "### Missing values"
   ]
  },
  {
   "cell_type": "markdown",
   "metadata": {},
   "source": [
    "#### Total income\n",
    "Missing income values will be filled with the median value of a group based on the income type and education level. It is only logical that people with the same education (e.g. secondary) but different income types (e.g. business and retiree) have different income levels. "
   ]
  },
  {
   "cell_type": "code",
   "execution_count": 1104,
   "metadata": {},
   "outputs": [],
   "source": [
    "df[\"total_income\"] = df.groupby(['income_type','education_id'])[\"total_income\"].apply(lambda x: x.fillna(x.median()))"
   ]
  },
  {
   "cell_type": "markdown",
   "metadata": {},
   "source": [
    "#### Days employed\n",
    "Missing 'days_employed' values will be filled with the median value of a group based on the age and education level. The logic behind is that, on average, the older a person is, the more years he has been working and also, the higher his education level, the higher his chances to get a job.\n",
    "\n",
    "To do that, first, we will categorize the 'dob_years' column into the following groups to make further analysis more transparent:\n",
    "\n",
    "- dob_years < 30 -> '0-29'\n",
    "- 30 <= dob_years < 40 -> '30-39'\n",
    "- 40 <= dob_years < 50 -> '40-49'\n",
    "- 50 <= dob_years < 60 -> '50-59'\n",
    "- dob_years >= 60 -> '60+'"
   ]
  },
  {
   "cell_type": "code",
   "execution_count": 1105,
   "metadata": {},
   "outputs": [],
   "source": [
    "def age_group(dob_years):\n",
    "    \"\"\"\n",
    "    The function returns the age group according to the age value, using the following rules:\n",
    "    - dob_years < 30 -> '0-29'\n",
    "    - 30 <= dob_years < 40 -> '30-39'\n",
    "    - 40 <= dob_years < 50 -> '40-49'\n",
    "    - 50 <= dob_years < 60 -> '50-59'\n",
    "    - dob_years >= 60 -> '60+' \n",
    "    \"\"\"\n",
    "    \n",
    "    if dob_years < 30:\n",
    "        return '0-29'\n",
    "    if 30 <= dob_years < 40:\n",
    "        return '30-39'\n",
    "    if 40 <= dob_years < 40:\n",
    "        return '40-49'\n",
    "    if 50 <= dob_years < 60:\n",
    "        return '50-59'\n",
    "    return '60+' "
   ]
  },
  {
   "cell_type": "code",
   "execution_count": 1106,
   "metadata": {},
   "outputs": [
    {
     "data": {
      "text/plain": [
       "0-29     3178\n",
       "50-59    4669\n",
       "30-39    5659\n",
       "60+      7972\n",
       "Name: age_bins, dtype: int64"
      ]
     },
     "execution_count": 1106,
     "metadata": {},
     "output_type": "execute_result"
    }
   ],
   "source": [
    "df['age_bins'] = df['dob_years'].apply(age_group)\n",
    "df['age_bins'].value_counts().sort_values()"
   ]
  },
  {
   "cell_type": "markdown",
   "metadata": {},
   "source": [
    "Next, we fill NaN values with the groups' median."
   ]
  },
  {
   "cell_type": "code",
   "execution_count": 1107,
   "metadata": {},
   "outputs": [],
   "source": [
    "df[\"days_employed\"] = df.groupby(['age_bins','education_id'])[\"days_employed\"].apply(lambda x: x.fillna(x.median()))"
   ]
  },
  {
   "cell_type": "code",
   "execution_count": 1108,
   "metadata": {},
   "outputs": [
    {
     "data": {
      "text/plain": [
       "<matplotlib.axes._subplots.AxesSubplot at 0x1a2b614210>"
      ]
     },
     "execution_count": 1108,
     "metadata": {},
     "output_type": "execute_result"
    },
    {
     "data": {
      "image/png": "[encoded data removed]",
      "text/plain": [
       "<Figure size 720x432 with 1 Axes>"
      ]
     },
     "metadata": {
      "needs_background": "light"
     },
     "output_type": "display_data"
    }
   ],
   "source": [
    "plt.figure(figsize=(10,6))\n",
    "sns.distplot(df[\"days_employed\"], kde=False)"
   ]
  },
  {
   "cell_type": "markdown",
   "metadata": {},
   "source": [
    "The final distribution of 'days_employed' now seems correct and logical, ranging from less than a year of work to up to 70 years, the distribution is positively skewed."
   ]
  },
  {
   "cell_type": "code",
   "execution_count": 1109,
   "metadata": {},
   "outputs": [
    {
     "data": {
      "text/plain": [
       "2.39507280372904"
      ]
     },
     "execution_count": 1109,
     "metadata": {},
     "output_type": "execute_result"
    }
   ],
   "source": [
    "df['days_employed'].skew()"
   ]
  },
  {
   "cell_type": "markdown",
   "metadata": {},
   "source": [
    "### Data type change\n",
    "Data type 'days_employed' and 'total_income' columns should be changed to integer type. The first column contains total working days, so they must be integers and not floats. The second column could be a float type but we will still convert it into integers to make further analysis clearer, besides, exact income amount is not important as we will create categories later on."
   ]
  },
  {
   "cell_type": "code",
   "execution_count": 1111,
   "metadata": {},
   "outputs": [],
   "source": [
    "df[['days_employed','total_income']] = df[['days_employed','total_income']].astype('int')"
   ]
  },
  {
   "cell_type": "code",
   "execution_count": 1113,
   "metadata": {},
   "outputs": [
    {
     "name": "stdout",
     "output_type": "stream",
     "text": [
      "<class 'pandas.core.frame.DataFrame'>\n",
      "Int64Index: 21478 entries, 0 to 21524\n",
      "Data columns (total 13 columns):\n",
      " #   Column            Non-Null Count  Dtype \n",
      "---  ------            --------------  ----- \n",
      " 0   children          21478 non-null  int64 \n",
      " 1   days_employed     21478 non-null  int64 \n",
      " 2   dob_years         21478 non-null  int64 \n",
      " 3   education         21478 non-null  object\n",
      " 4   education_id      21478 non-null  int64 \n",
      " 5   family_status     21478 non-null  object\n",
      " 6   family_status_id  21478 non-null  int64 \n",
      " 7   gender            21478 non-null  object\n",
      " 8   income_type       21478 non-null  object\n",
      " 9   debt              21478 non-null  int64 \n",
      " 10  total_income      21478 non-null  int64 \n",
      " 11  purpose           21478 non-null  object\n",
      " 12  age_bins          21478 non-null  object\n",
      "dtypes: int64(7), object(6)\n",
      "memory usage: 2.3+ MB\n"
     ]
    }
   ],
   "source": [
    "df.info()"
   ]
  },
  {
   "cell_type": "markdown",
   "metadata": {},
   "source": [
    "As we can see from the above table, no more missing data and the data type is correct as well. Next step is removing duplicates."
   ]
  },
  {
   "cell_type": "markdown",
   "metadata": {},
   "source": [
    "### Duplicates\n",
    "We are going to look for full duplicates, meaning that every column value of the two rows must be the same because in this data set we don't have any column that could fully identify a customer (such as a personal id number for example)."
   ]
  },
  {
   "cell_type": "code",
   "execution_count": 1114,
   "metadata": {},
   "outputs": [
    {
     "data": {
      "text/plain": [
       "56"
      ]
     },
     "execution_count": 1114,
     "metadata": {},
     "output_type": "execute_result"
    }
   ],
   "source": [
    "df.duplicated().sum()"
   ]
  },
  {
   "cell_type": "code",
   "execution_count": 1115,
   "metadata": {},
   "outputs": [],
   "source": [
    "df.drop_duplicates(inplace=True, ignore_index=True)"
   ]
  },
  {
   "cell_type": "markdown",
   "metadata": {},
   "source": [
    "### Categorization"
   ]
  },
  {
   "cell_type": "markdown",
   "metadata": {},
   "source": [
    "#### Income type"
   ]
  },
  {
   "cell_type": "code",
   "execution_count": 1116,
   "metadata": {},
   "outputs": [
    {
     "data": {
      "text/plain": [
       "employee                       11064\n",
       "business                        5071\n",
       "retiree                         3828\n",
       "civil servant                   1453\n",
       "unemployed                         2\n",
       "entrepreneur                       2\n",
       "student                            1\n",
       "paternity / maternity leave        1\n",
       "Name: income_type, dtype: int64"
      ]
     },
     "execution_count": 1116,
     "metadata": {},
     "output_type": "execute_result"
    }
   ],
   "source": [
    "df['income_type'].value_counts()"
   ]
  },
  {
   "cell_type": "markdown",
   "metadata": {},
   "source": [
    "We have some outliers among income types. For further categorization, let's combine those values with bigger groups: \n",
    "- For the purposes of this report a student and both unemployed people will be merged with the employee category because keeping a separate group for only 3 observations is meaningless but important columns for us are filled, so we don't want to loose valuable information. We will add them to the biggest group, so it won't change the distribution of the data;\n",
    "- paternity / maternity leave goes to the employee category;\n",
    "- entrepreneur goes to the business category;"
   ]
  },
  {
   "cell_type": "code",
   "execution_count": 1117,
   "metadata": {},
   "outputs": [],
   "source": [
    "df.loc[df['income_type'] == 'student', 'income_type'] = 'employee'\n",
    "df.loc[df['income_type'] == 'unemployed', 'income_type'] = 'employee'\n",
    "df.loc[df['income_type'] == 'entrepreneur', 'income_type'] = 'business'\n",
    "df.loc[df['income_type'] == 'paternity / maternity leave', 'income_type'] = 'employee'"
   ]
  },
  {
   "cell_type": "markdown",
   "metadata": {},
   "source": [
    "#### Total income"
   ]
  },
  {
   "cell_type": "code",
   "execution_count": 1118,
   "metadata": {},
   "outputs": [
    {
     "data": {
      "text/plain": [
       "<matplotlib.axes._subplots.AxesSubplot at 0x1a2b887310>"
      ]
     },
     "execution_count": 1118,
     "metadata": {},
     "output_type": "execute_result"
    },
    {
     "data": {
      "image/png": "[encoded data removed]",
      "text/plain": [
       "<Figure size 720x432 with 1 Axes>"
      ]
     },
     "metadata": {
      "needs_background": "light"
     },
     "output_type": "display_data"
    }
   ],
   "source": [
    "plt.figure(figsize=(10,6))\n",
    "sns.distplot(df[\"total_income\"], kde=False)"
   ]
  },
  {
   "cell_type": "markdown",
   "metadata": {},
   "source": [
    "The 'total_income' column values range from around 3 000 to 300 000 (a difference of almost a 100 times) with an average of around 30 000, the income distribution is positively skewed. "
   ]
  },
  {
   "cell_type": "code",
   "execution_count": 1119,
   "metadata": {},
   "outputs": [
    {
     "data": {
      "text/plain": [
       "4.149277216996072"
      ]
     },
     "execution_count": 1119,
     "metadata": {},
     "output_type": "execute_result"
    }
   ],
   "source": [
    "df['total_income'].skew()"
   ]
  },
  {
   "cell_type": "markdown",
   "metadata": {},
   "source": [
    "To simplify the analysis we will categorize income data into 3 groups:\n",
    "\n",
    "- below average\n",
    "- average\n",
    "- above average\n",
    "\n",
    "We will consider average income to be a range from (mean - std) up to (mean + std). Below average are values below that range and above average - the values above that range."
   ]
  },
  {
   "cell_type": "code",
   "execution_count": 1120,
   "metadata": {},
   "outputs": [],
   "source": [
    "def income_group(total_income):\n",
    "    \"\"\"\n",
    "    The function returns an income bin according to the total income value, using the following rules:\n",
    "    - total_income < (mean - std)  -> 'below average'\n",
    "    - (mean - std) <= total_income <= (mean + std) -> 'average'\n",
    "    - total_income > (mean + std) -> 'above average' \n",
    "    \"\"\"\n",
    "    mean = df['total_income'].mean()\n",
    "    std = df['total_income'].std()\n",
    "    \n",
    "    if total_income < (mean - std):\n",
    "        return 'below average'\n",
    "    if (mean - std) <= total_income <= (mean + std):\n",
    "        return 'average'\n",
    "    return 'above average' "
   ]
  },
  {
   "cell_type": "code",
   "execution_count": 1121,
   "metadata": {},
   "outputs": [
    {
     "data": {
      "text/plain": [
       "below average     1277\n",
       "above average     2317\n",
       "average          17828\n",
       "Name: income_bins, dtype: int64"
      ]
     },
     "execution_count": 1121,
     "metadata": {},
     "output_type": "execute_result"
    }
   ],
   "source": [
    "df['income_bins'] = df['total_income'].apply(income_group)\n",
    "df['income_bins'].value_counts().sort_values()"
   ]
  },
  {
   "cell_type": "markdown",
   "metadata": {},
   "source": [
    "#### Purpose"
   ]
  },
  {
   "cell_type": "markdown",
   "metadata": {},
   "source": [
    "We can identify 4 main purposes for taking a loan:\n",
    "- wedding\n",
    "- real estate\n",
    "- car\n",
    "- education\n",
    "\n",
    "Let's combine the data into these categories to make it easier to analysis."
   ]
  },
  {
   "cell_type": "code",
   "execution_count": 1122,
   "metadata": {},
   "outputs": [],
   "source": [
    "purpose_list = ['wedding', 'estate', 'property', 'house', 'car', 'education', 'university']\n",
    "purpose_stem_list = [english_stemmer.stem(word) for word in purpose_list]\n",
    "purpose_dict = {'wedding':'wed', 'real estate':['estat', 'properti', 'hous'], 'car':'car', 'education': ['educ', 'univers']}"
   ]
  },
  {
   "cell_type": "code",
   "execution_count": 1123,
   "metadata": {},
   "outputs": [],
   "source": [
    "def get_key(val):\n",
    "    \"\"\"\n",
    "    If the val can be found in the dictinary.values() list, \n",
    "    returns the key of the dictionary item in which the val was found.\n",
    "    \"\"\"\n",
    "    wrong_val = []\n",
    "    \n",
    "    for key, value in purpose_dict.items(): \n",
    "        try:\n",
    "            if val in value: \n",
    "                return key\n",
    "        except:\n",
    "            wrong_val.append(key, value)"
   ]
  },
  {
   "cell_type": "code",
   "execution_count": 1124,
   "metadata": {},
   "outputs": [],
   "source": [
    "def flatten(A):\n",
    "    \"\"\"\n",
    "    Given a list of lists, returns the flattened list. \n",
    "    \"\"\"\n",
    "    rt = []\n",
    "    for i in A:\n",
    "        if isinstance(i,list): rt.extend(flatten(i))\n",
    "        else: rt.append(i)\n",
    "    return rt"
   ]
  },
  {
   "cell_type": "code",
   "execution_count": 1125,
   "metadata": {},
   "outputs": [],
   "source": [
    "def purpose_group(row):\n",
    "    \"\"\"\n",
    "    Takes in a row of a data frame, finds the 'purpose' column, splits it into strings. \n",
    "    Then for each word of that string, searches if the stem of the word is found in the 'purpose_dict':\n",
    "    purpose_dict = {'wedding':'wed', 'real estate':['estat', 'properti', 'hous'], 'car':'car', 'education': ['educ', 'univers']}\n",
    "    Returns the key of the dictionary item in which the stem was found.\n",
    "    \"\"\"\n",
    "    \n",
    "    purpose = row['purpose']\n",
    "    purpose_split = purpose.split(' ')\n",
    "    wrong_content = []\n",
    "\n",
    "    for word in purpose_split:\n",
    "        try:\n",
    "            stem_word = english_stemmer.stem(word) \n",
    "            if stem_word in flatten(purpose_dict.values()):\n",
    "                return get_key(stem_word)\n",
    "        except:\n",
    "            wrong_content.append(word)"
   ]
  },
  {
   "cell_type": "code",
   "execution_count": 1126,
   "metadata": {},
   "outputs": [],
   "source": [
    "df['purpose_group'] = df.apply(purpose_group, axis=1)"
   ]
  },
  {
   "cell_type": "code",
   "execution_count": 1127,
   "metadata": {},
   "outputs": [
    {
     "data": {
      "text/plain": [
       "real estate    10790\n",
       "car             4296\n",
       "education       4004\n",
       "wedding         2332\n",
       "Name: purpose_group, dtype: int64"
      ]
     },
     "execution_count": 1127,
     "metadata": {},
     "output_type": "execute_result"
    }
   ],
   "source": [
    "df['purpose_group'].value_counts()"
   ]
  },
  {
   "cell_type": "markdown",
   "metadata": {},
   "source": [
    "#### Days employed bins"
   ]
  },
  {
   "cell_type": "markdown",
   "metadata": {},
   "source": [
    "To categorize 'days_employed', we will assume that there are 252 working days a year and group them the following way:\n",
    "- 0 to 3 years -> 'junior'\n",
    "- 3 to 10 years -> 'experienced'\n",
    "- more than 10 years -> 'senior'"
   ]
  },
  {
   "cell_type": "code",
   "execution_count": 1128,
   "metadata": {},
   "outputs": [],
   "source": [
    "def work_experience(row):\n",
    "    \"\"\"\n",
    "    The function returns a workdays bin according to the days_employed value, using the following rules:\n",
    "    - days_employed < 3*252  -> 'junior'\n",
    "    - 3*252 <= days_employed <= 10*252 -> 'experienced'\n",
    "    - days_employed > 10*252 -> 'senior' \n",
    "    \"\"\"\n",
    "    \n",
    "    days_employed = row['days_employed']\n",
    "    if days_employed < 3*252:\n",
    "        return 'junior'\n",
    "    if days_employed > 10*252:\n",
    "        return 'senior'\n",
    "    return 'experienced' "
   ]
  },
  {
   "cell_type": "code",
   "execution_count": 1129,
   "metadata": {},
   "outputs": [],
   "source": [
    "df['work_experience'] = df.apply(work_experience, axis=1)"
   ]
  },
  {
   "cell_type": "markdown",
   "metadata": {},
   "source": [
    "### Final df"
   ]
  },
  {
   "cell_type": "markdown",
   "metadata": {},
   "source": [
    "Let's create a final data frame with only those columns that we are going to use for further analysis."
   ]
  },
  {
   "cell_type": "code",
   "execution_count": 1130,
   "metadata": {},
   "outputs": [
    {
     "data": {
      "text/html": [
       "<div>\n",
       "<style scoped>\n",
       "    .dataframe tbody tr th:only-of-type {\n",
       "        vertical-align: middle;\n",
       "    }\n",
       "\n",
       "    .dataframe tbody tr th {\n",
       "        vertical-align: top;\n",
       "    }\n",
       "\n",
       "    .dataframe thead th {\n",
       "        text-align: right;\n",
       "    }\n",
       "</style>\n",
       "<table border=\"1\" class=\"dataframe\">\n",
       "  <thead>\n",
       "    <tr style=\"text-align: right;\">\n",
       "      <th></th>\n",
       "      <th>children</th>\n",
       "      <th>work_experience</th>\n",
       "      <th>age_bins</th>\n",
       "      <th>education_id</th>\n",
       "      <th>family_status</th>\n",
       "      <th>gender</th>\n",
       "      <th>income_type</th>\n",
       "      <th>income_bins</th>\n",
       "      <th>purpose_group</th>\n",
       "      <th>debt</th>\n",
       "    </tr>\n",
       "  </thead>\n",
       "  <tbody>\n",
       "    <tr>\n",
       "      <th>0</th>\n",
       "      <td>1</td>\n",
       "      <td>senior</td>\n",
       "      <td>60+</td>\n",
       "      <td>0</td>\n",
       "      <td>married</td>\n",
       "      <td>F</td>\n",
       "      <td>employee</td>\n",
       "      <td>average</td>\n",
       "      <td>real estate</td>\n",
       "      <td>0</td>\n",
       "    </tr>\n",
       "    <tr>\n",
       "      <th>1</th>\n",
       "      <td>1</td>\n",
       "      <td>senior</td>\n",
       "      <td>30-39</td>\n",
       "      <td>1</td>\n",
       "      <td>married</td>\n",
       "      <td>F</td>\n",
       "      <td>employee</td>\n",
       "      <td>average</td>\n",
       "      <td>car</td>\n",
       "      <td>0</td>\n",
       "    </tr>\n",
       "    <tr>\n",
       "      <th>2</th>\n",
       "      <td>0</td>\n",
       "      <td>senior</td>\n",
       "      <td>30-39</td>\n",
       "      <td>1</td>\n",
       "      <td>married</td>\n",
       "      <td>M</td>\n",
       "      <td>employee</td>\n",
       "      <td>average</td>\n",
       "      <td>real estate</td>\n",
       "      <td>0</td>\n",
       "    </tr>\n",
       "    <tr>\n",
       "      <th>3</th>\n",
       "      <td>3</td>\n",
       "      <td>senior</td>\n",
       "      <td>30-39</td>\n",
       "      <td>1</td>\n",
       "      <td>married</td>\n",
       "      <td>M</td>\n",
       "      <td>employee</td>\n",
       "      <td>above average</td>\n",
       "      <td>education</td>\n",
       "      <td>0</td>\n",
       "    </tr>\n",
       "    <tr>\n",
       "      <th>4</th>\n",
       "      <td>0</td>\n",
       "      <td>experienced</td>\n",
       "      <td>50-59</td>\n",
       "      <td>1</td>\n",
       "      <td>civil partnership</td>\n",
       "      <td>F</td>\n",
       "      <td>retiree</td>\n",
       "      <td>average</td>\n",
       "      <td>wedding</td>\n",
       "      <td>0</td>\n",
       "    </tr>\n",
       "  </tbody>\n",
       "</table>\n",
       "</div>"
      ],
      "text/plain": [
       "   children work_experience age_bins  education_id      family_status gender  \\\n",
       "0         1          senior      60+             0            married      F   \n",
       "1         1          senior    30-39             1            married      F   \n",
       "2         0          senior    30-39             1            married      M   \n",
       "3         3          senior    30-39             1            married      M   \n",
       "4         0     experienced    50-59             1  civil partnership      F   \n",
       "\n",
       "  income_type    income_bins purpose_group  debt  \n",
       "0    employee        average   real estate     0  \n",
       "1    employee        average           car     0  \n",
       "2    employee        average   real estate     0  \n",
       "3    employee  above average     education     0  \n",
       "4     retiree        average       wedding     0  "
      ]
     },
     "execution_count": 1130,
     "metadata": {},
     "output_type": "execute_result"
    }
   ],
   "source": [
    "final_col = ['children', 'work_experience', 'age_bins', 'education_id', 'family_status', 'gender', 'income_type', 'income_bins', 'purpose_group', 'debt']\n",
    "df_final = df[final_col]\n",
    "df_final.head()"
   ]
  },
  {
   "cell_type": "markdown",
   "metadata": {},
   "source": [
    "Let's calculate an average debt percentage of the whole dataset:"
   ]
  },
  {
   "cell_type": "code",
   "execution_count": 1131,
   "metadata": {},
   "outputs": [
    {
     "data": {
      "text/plain": [
       "0.08122490897208477"
      ]
     },
     "execution_count": 1131,
     "metadata": {},
     "output_type": "execute_result"
    }
   ],
   "source": [
    "df_final['debt'].mean()"
   ]
  },
  {
   "cell_type": "markdown",
   "metadata": {},
   "source": [
    "### Link between children and debt"
   ]
  },
  {
   "cell_type": "code",
   "execution_count": 1132,
   "metadata": {},
   "outputs": [
    {
     "data": {
      "text/plain": [
       "children\n",
       "0     0.075358\n",
       "1     0.092346\n",
       "2     0.094542\n",
       "3     0.081818\n",
       "4     0.097561\n",
       "5     0.000000\n",
       "20    0.105263\n",
       "Name: debt, dtype: float64"
      ]
     },
     "execution_count": 1132,
     "metadata": {},
     "output_type": "execute_result"
    }
   ],
   "source": [
    "df_final.groupby('children')['debt'].mean()"
   ]
  },
  {
   "cell_type": "markdown",
   "metadata": {},
   "source": [
    "We can see that the average debt percentage of each group is almost the same as the overall average (8%). As we predicted, people without children are doing a little bit better but the difference is not significant (0.6 to 3%). People with 20 children are most likely to fail on a loan. It can be explained by the much increased daily expenses and all the unexpected costs associated with children. People having 5 children in this dataset never failed on a loan but their number is very limited (9 people), so this result can be viewed as more of an exception."
   ]
  },
  {
   "cell_type": "markdown",
   "metadata": {},
   "source": [
    "### Link between family status and debt "
   ]
  },
  {
   "cell_type": "code",
   "execution_count": 1133,
   "metadata": {},
   "outputs": [
    {
     "data": {
      "text/plain": [
       "family_status\n",
       "civil partnership    0.093337\n",
       "divorced             0.071369\n",
       "married              0.075524\n",
       "unmarried            0.097683\n",
       "widow / widower      0.065969\n",
       "Name: debt, dtype: float64"
      ]
     },
     "execution_count": 1133,
     "metadata": {},
     "output_type": "execute_result"
    }
   ],
   "source": [
    "df_final.groupby('family_status')['debt'].mean()"
   ]
  },
  {
   "cell_type": "markdown",
   "metadata": {},
   "source": [
    "Considering family status apart from other variables, we see that unmarried people along with people in a civil partnership have the highest default rates (9.7% and 9.3% respectively). In contrast, married people's rate is 7.5%. It could be explained by the fact that spouses usually support each other in difficult times. Let's have a look at the same data split by the number of children in a family."
   ]
  },
  {
   "cell_type": "code",
   "execution_count": 1134,
   "metadata": {},
   "outputs": [
    {
     "data": {
      "text/html": [
       "<div>\n",
       "<style scoped>\n",
       "    .dataframe tbody tr th:only-of-type {\n",
       "        vertical-align: middle;\n",
       "    }\n",
       "\n",
       "    .dataframe tbody tr th {\n",
       "        vertical-align: top;\n",
       "    }\n",
       "\n",
       "    .dataframe thead th {\n",
       "        text-align: right;\n",
       "    }\n",
       "</style>\n",
       "<table border=\"1\" class=\"dataframe\">\n",
       "  <thead>\n",
       "    <tr style=\"text-align: right;\">\n",
       "      <th>family_status</th>\n",
       "      <th>civil partnership</th>\n",
       "      <th>divorced</th>\n",
       "      <th>married</th>\n",
       "      <th>unmarried</th>\n",
       "      <th>widow / widower</th>\n",
       "    </tr>\n",
       "    <tr>\n",
       "      <th>children</th>\n",
       "      <th></th>\n",
       "      <th></th>\n",
       "      <th></th>\n",
       "      <th></th>\n",
       "      <th></th>\n",
       "    </tr>\n",
       "  </thead>\n",
       "  <tbody>\n",
       "    <tr>\n",
       "      <th>0</th>\n",
       "      <td>0.083577</td>\n",
       "      <td>0.070153</td>\n",
       "      <td>0.069049</td>\n",
       "      <td>0.092838</td>\n",
       "      <td>0.062574</td>\n",
       "    </tr>\n",
       "    <tr>\n",
       "      <th>1</th>\n",
       "      <td>0.118474</td>\n",
       "      <td>0.067308</td>\n",
       "      <td>0.082717</td>\n",
       "      <td>0.115813</td>\n",
       "      <td>0.090909</td>\n",
       "    </tr>\n",
       "    <tr>\n",
       "      <th>2</th>\n",
       "      <td>0.087464</td>\n",
       "      <td>0.086420</td>\n",
       "      <td>0.094586</td>\n",
       "      <td>0.120000</td>\n",
       "      <td>0.150000</td>\n",
       "    </tr>\n",
       "    <tr>\n",
       "      <th>3</th>\n",
       "      <td>0.142857</td>\n",
       "      <td>0.090909</td>\n",
       "      <td>0.068273</td>\n",
       "      <td>0.125000</td>\n",
       "      <td>0.000000</td>\n",
       "    </tr>\n",
       "    <tr>\n",
       "      <th>4</th>\n",
       "      <td>0.000000</td>\n",
       "      <td>0.000000</td>\n",
       "      <td>0.103448</td>\n",
       "      <td>0.500000</td>\n",
       "      <td>0.000000</td>\n",
       "    </tr>\n",
       "    <tr>\n",
       "      <th>5</th>\n",
       "      <td>0.000000</td>\n",
       "      <td>NaN</td>\n",
       "      <td>0.000000</td>\n",
       "      <td>NaN</td>\n",
       "      <td>NaN</td>\n",
       "    </tr>\n",
       "    <tr>\n",
       "      <th>20</th>\n",
       "      <td>0.250000</td>\n",
       "      <td>0.500000</td>\n",
       "      <td>0.061224</td>\n",
       "      <td>0.111111</td>\n",
       "      <td>0.000000</td>\n",
       "    </tr>\n",
       "  </tbody>\n",
       "</table>\n",
       "</div>"
      ],
      "text/plain": [
       "family_status  civil partnership  divorced   married  unmarried  \\\n",
       "children                                                          \n",
       "0                       0.083577  0.070153  0.069049   0.092838   \n",
       "1                       0.118474  0.067308  0.082717   0.115813   \n",
       "2                       0.087464  0.086420  0.094586   0.120000   \n",
       "3                       0.142857  0.090909  0.068273   0.125000   \n",
       "4                       0.000000  0.000000  0.103448   0.500000   \n",
       "5                       0.000000       NaN  0.000000        NaN   \n",
       "20                      0.250000  0.500000  0.061224   0.111111   \n",
       "\n",
       "family_status  widow / widower  \n",
       "children                        \n",
       "0                     0.062574  \n",
       "1                     0.090909  \n",
       "2                     0.150000  \n",
       "3                     0.000000  \n",
       "4                     0.000000  \n",
       "5                          NaN  \n",
       "20                    0.000000  "
      ]
     },
     "execution_count": 1134,
     "metadata": {},
     "output_type": "execute_result"
    }
   ],
   "source": [
    "df_pivot_family = df_final.pivot_table(index=['children'], \n",
    "                                    columns='family_status', values='debt', aggfunc='mean')\n",
    "df_pivot_family"
   ]
  },
  {
   "cell_type": "markdown",
   "metadata": {},
   "source": [
    "As before, we see that overall, the more children a family has, the higher is the default rate, regardless of their family status. In this view, unmarried people default on a loan much more often that married ones, with an up to 40% difference. Interestingly, widowers don't have many children (up to 2), so that might be one of the reasons why they default less often. "
   ]
  },
  {
   "cell_type": "markdown",
   "metadata": {},
   "source": [
    "### Link between income level and debt"
   ]
  },
  {
   "cell_type": "code",
   "execution_count": 1135,
   "metadata": {},
   "outputs": [
    {
     "data": {
      "text/html": [
       "<div>\n",
       "<style scoped>\n",
       "    .dataframe tbody tr th:only-of-type {\n",
       "        vertical-align: middle;\n",
       "    }\n",
       "\n",
       "    .dataframe tbody tr th {\n",
       "        vertical-align: top;\n",
       "    }\n",
       "\n",
       "    .dataframe thead th {\n",
       "        text-align: right;\n",
       "    }\n",
       "</style>\n",
       "<table border=\"1\" class=\"dataframe\">\n",
       "  <thead>\n",
       "    <tr style=\"text-align: right;\">\n",
       "      <th>income_type</th>\n",
       "      <th>business</th>\n",
       "      <th>civil servant</th>\n",
       "      <th>employee</th>\n",
       "      <th>retiree</th>\n",
       "    </tr>\n",
       "    <tr>\n",
       "      <th>income_bins</th>\n",
       "      <th></th>\n",
       "      <th></th>\n",
       "      <th></th>\n",
       "      <th></th>\n",
       "    </tr>\n",
       "  </thead>\n",
       "  <tbody>\n",
       "    <tr>\n",
       "      <th>above average</th>\n",
       "      <td>0.062165</td>\n",
       "      <td>0.035088</td>\n",
       "      <td>0.087879</td>\n",
       "      <td>0.044843</td>\n",
       "    </tr>\n",
       "    <tr>\n",
       "      <th>average</th>\n",
       "      <td>0.077228</td>\n",
       "      <td>0.064220</td>\n",
       "      <td>0.097227</td>\n",
       "      <td>0.057308</td>\n",
       "    </tr>\n",
       "    <tr>\n",
       "      <th>below average</th>\n",
       "      <td>0.060000</td>\n",
       "      <td>0.036145</td>\n",
       "      <td>0.089076</td>\n",
       "      <td>0.056112</td>\n",
       "    </tr>\n",
       "  </tbody>\n",
       "</table>\n",
       "</div>"
      ],
      "text/plain": [
       "income_type    business  civil servant  employee   retiree\n",
       "income_bins                                               \n",
       "above average  0.062165       0.035088  0.087879  0.044843\n",
       "average        0.077228       0.064220  0.097227  0.057308\n",
       "below average  0.060000       0.036145  0.089076  0.056112"
      ]
     },
     "execution_count": 1135,
     "metadata": {},
     "output_type": "execute_result"
    }
   ],
   "source": [
    "df_pivot_income = df_final.pivot_table(index=['income_bins'], \n",
    "                                    columns='income_type', values='debt', aggfunc='mean')\n",
    "df_pivot_income"
   ]
  },
  {
   "cell_type": "markdown",
   "metadata": {},
   "source": [
    "Overall, retirees tend to default less often than others. Besides, people with average income default more often that those with income below or above average. The least risky are loans to civil servants with low or high income. "
   ]
  },
  {
   "cell_type": "markdown",
   "metadata": {},
   "source": [
    "### Link between education and debt"
   ]
  },
  {
   "cell_type": "code",
   "execution_count": 1136,
   "metadata": {},
   "outputs": [
    {
     "data": {
      "text/plain": [
       "education_id\n",
       "0    0.053043\n",
       "1    0.089967\n",
       "2    0.091521\n",
       "3    0.109929\n",
       "4    0.000000\n",
       "Name: debt, dtype: float64"
      ]
     },
     "execution_count": 1136,
     "metadata": {},
     "output_type": "execute_result"
    }
   ],
   "source": [
    "df_final.groupby('education_id')['debt'].mean()"
   ]
  },
  {
   "cell_type": "markdown",
   "metadata": {},
   "source": [
    "Interestingly, the higher the education level, the higher the default rate (with the exception of people with graduate degree who never defaulted on a loan but there are only 6 of them in the dataset, which is not significant enough to make a conclusion)."
   ]
  },
  {
   "cell_type": "markdown",
   "metadata": {},
   "source": [
    "### Link between loan purpose and debt"
   ]
  },
  {
   "cell_type": "code",
   "execution_count": 1137,
   "metadata": {},
   "outputs": [
    {
     "data": {
      "text/plain": [
       "purpose_group\n",
       "car            0.093575\n",
       "education      0.092408\n",
       "real estate    0.072475\n",
       "wedding        0.079760\n",
       "Name: debt, dtype: float64"
      ]
     },
     "execution_count": 1137,
     "metadata": {},
     "output_type": "execute_result"
    }
   ],
   "source": [
    "df_final.groupby('purpose_group')['debt'].mean()"
   ]
  },
  {
   "cell_type": "markdown",
   "metadata": {},
   "source": [
    "The difference between groups is not very significant - around 2%. People who are planning a wedding or buying some property tend to be slightly more credit worthy."
   ]
  },
  {
   "cell_type": "markdown",
   "metadata": {},
   "source": [
    "### Link between age and debt"
   ]
  },
  {
   "cell_type": "code",
   "execution_count": 1138,
   "metadata": {},
   "outputs": [
    {
     "data": {
      "text/plain": [
       "age_bins\n",
       "0-29     0.109887\n",
       "30-39    0.097557\n",
       "50-59    0.065563\n",
       "60+      0.067329\n",
       "Name: debt, dtype: float64"
      ]
     },
     "execution_count": 1138,
     "metadata": {},
     "output_type": "execute_result"
    }
   ],
   "source": [
    "df_final.groupby('age_bins')['debt'].mean()"
   ]
  },
  {
   "cell_type": "markdown",
   "metadata": {},
   "source": [
    "Younger people tend to default more often on a loan. Let's see if we see the same tendency if we split this table by work experience."
   ]
  },
  {
   "cell_type": "code",
   "execution_count": 1139,
   "metadata": {},
   "outputs": [
    {
     "data": {
      "text/html": [
       "<div>\n",
       "<style scoped>\n",
       "    .dataframe tbody tr th:only-of-type {\n",
       "        vertical-align: middle;\n",
       "    }\n",
       "\n",
       "    .dataframe tbody tr th {\n",
       "        vertical-align: top;\n",
       "    }\n",
       "\n",
       "    .dataframe thead th {\n",
       "        text-align: right;\n",
       "    }\n",
       "</style>\n",
       "<table border=\"1\" class=\"dataframe\">\n",
       "  <thead>\n",
       "    <tr style=\"text-align: right;\">\n",
       "      <th>age_bins</th>\n",
       "      <th>0-29</th>\n",
       "      <th>30-39</th>\n",
       "      <th>50-59</th>\n",
       "      <th>60+</th>\n",
       "    </tr>\n",
       "    <tr>\n",
       "      <th>work_experience</th>\n",
       "      <th></th>\n",
       "      <th></th>\n",
       "      <th></th>\n",
       "      <th></th>\n",
       "    </tr>\n",
       "  </thead>\n",
       "  <tbody>\n",
       "    <tr>\n",
       "      <th>experienced</th>\n",
       "      <td>0.105030</td>\n",
       "      <td>0.099964</td>\n",
       "      <td>0.069392</td>\n",
       "      <td>0.063951</td>\n",
       "    </tr>\n",
       "    <tr>\n",
       "      <th>junior</th>\n",
       "      <td>0.129477</td>\n",
       "      <td>0.107286</td>\n",
       "      <td>0.090734</td>\n",
       "      <td>0.106822</td>\n",
       "    </tr>\n",
       "    <tr>\n",
       "      <th>senior</th>\n",
       "      <td>0.064748</td>\n",
       "      <td>0.085642</td>\n",
       "      <td>0.045789</td>\n",
       "      <td>0.054722</td>\n",
       "    </tr>\n",
       "  </tbody>\n",
       "</table>\n",
       "</div>"
      ],
      "text/plain": [
       "age_bins             0-29     30-39     50-59       60+\n",
       "work_experience                                        \n",
       "experienced      0.105030  0.099964  0.069392  0.063951\n",
       "junior           0.129477  0.107286  0.090734  0.106822\n",
       "senior           0.064748  0.085642  0.045789  0.054722"
      ]
     },
     "execution_count": 1139,
     "metadata": {},
     "output_type": "execute_result"
    }
   ],
   "source": [
    "df_pivot_age = df_final.pivot_table(index=['work_experience'], \n",
    "                                    columns='age_bins', values='debt', aggfunc='mean')\n",
    "df_pivot_age"
   ]
  },
  {
   "cell_type": "markdown",
   "metadata": {},
   "source": [
    "Overall senior people (in terms of work experience) default less often which can be explained by a more stable financial situation and higher wage. The same tendency can be observed age wise with an exception for young senior people who are on average more credit worthy than middle-aged seniors."
   ]
  },
  {
   "cell_type": "markdown",
   "metadata": {},
   "source": [
    "### Link between gender and debt"
   ]
  },
  {
   "cell_type": "markdown",
   "metadata": {},
   "source": [
    "First of all, let's examine the overall difference between men and women in terms of their credit worthiness."
   ]
  },
  {
   "cell_type": "code",
   "execution_count": 1140,
   "metadata": {},
   "outputs": [
    {
     "data": {
      "text/plain": [
       "gender\n",
       "F    0.070162\n",
       "M    0.102765\n",
       "Name: debt, dtype: float64"
      ]
     },
     "execution_count": 1140,
     "metadata": {},
     "output_type": "execute_result"
    }
   ],
   "source": [
    "df_final.groupby('gender')['debt'].mean()"
   ]
  },
  {
   "cell_type": "markdown",
   "metadata": {},
   "source": [
    "We see that women are 3.2% more likely to payoff a loan. It could probably be explained by the finding that has been replicated in a variety of studies over the years that men are more inclined to take risks than women. Now, let's compare these two groups split by income level and type."
   ]
  },
  {
   "cell_type": "code",
   "execution_count": 1141,
   "metadata": {},
   "outputs": [
    {
     "data": {
      "text/html": [
       "<div>\n",
       "<style scoped>\n",
       "    .dataframe tbody tr th:only-of-type {\n",
       "        vertical-align: middle;\n",
       "    }\n",
       "\n",
       "    .dataframe tbody tr th {\n",
       "        vertical-align: top;\n",
       "    }\n",
       "\n",
       "    .dataframe thead th {\n",
       "        text-align: right;\n",
       "    }\n",
       "</style>\n",
       "<table border=\"1\" class=\"dataframe\">\n",
       "  <thead>\n",
       "    <tr style=\"text-align: right;\">\n",
       "      <th></th>\n",
       "      <th>gender</th>\n",
       "      <th>F</th>\n",
       "      <th>M</th>\n",
       "    </tr>\n",
       "    <tr>\n",
       "      <th>income_bins</th>\n",
       "      <th>income_type</th>\n",
       "      <th></th>\n",
       "      <th></th>\n",
       "    </tr>\n",
       "  </thead>\n",
       "  <tbody>\n",
       "    <tr>\n",
       "      <th rowspan=\"4\" valign=\"top\">above average</th>\n",
       "      <th>business</th>\n",
       "      <td>0.056723</td>\n",
       "      <td>0.067834</td>\n",
       "    </tr>\n",
       "    <tr>\n",
       "      <th>civil servant</th>\n",
       "      <td>0.043011</td>\n",
       "      <td>0.025641</td>\n",
       "    </tr>\n",
       "    <tr>\n",
       "      <th>employee</th>\n",
       "      <td>0.079498</td>\n",
       "      <td>0.095703</td>\n",
       "    </tr>\n",
       "    <tr>\n",
       "      <th>retiree</th>\n",
       "      <td>0.053254</td>\n",
       "      <td>0.018519</td>\n",
       "    </tr>\n",
       "    <tr>\n",
       "      <th rowspan=\"4\" valign=\"top\">average</th>\n",
       "      <th>business</th>\n",
       "      <td>0.069661</td>\n",
       "      <td>0.091295</td>\n",
       "    </tr>\n",
       "    <tr>\n",
       "      <th>civil servant</th>\n",
       "      <td>0.057906</td>\n",
       "      <td>0.083056</td>\n",
       "    </tr>\n",
       "    <tr>\n",
       "      <th>employee</th>\n",
       "      <td>0.082472</td>\n",
       "      <td>0.120544</td>\n",
       "    </tr>\n",
       "    <tr>\n",
       "      <th>retiree</th>\n",
       "      <td>0.051799</td>\n",
       "      <td>0.081456</td>\n",
       "    </tr>\n",
       "    <tr>\n",
       "      <th rowspan=\"4\" valign=\"top\">below average</th>\n",
       "      <th>business</th>\n",
       "      <td>0.011905</td>\n",
       "      <td>0.312500</td>\n",
       "    </tr>\n",
       "    <tr>\n",
       "      <th>civil servant</th>\n",
       "      <td>0.025641</td>\n",
       "      <td>0.200000</td>\n",
       "    </tr>\n",
       "    <tr>\n",
       "      <th>employee</th>\n",
       "      <td>0.087683</td>\n",
       "      <td>0.094828</td>\n",
       "    </tr>\n",
       "    <tr>\n",
       "      <th>retiree</th>\n",
       "      <td>0.057604</td>\n",
       "      <td>0.046154</td>\n",
       "    </tr>\n",
       "  </tbody>\n",
       "</table>\n",
       "</div>"
      ],
      "text/plain": [
       "gender                              F         M\n",
       "income_bins   income_type                      \n",
       "above average business       0.056723  0.067834\n",
       "              civil servant  0.043011  0.025641\n",
       "              employee       0.079498  0.095703\n",
       "              retiree        0.053254  0.018519\n",
       "average       business       0.069661  0.091295\n",
       "              civil servant  0.057906  0.083056\n",
       "              employee       0.082472  0.120544\n",
       "              retiree        0.051799  0.081456\n",
       "below average business       0.011905  0.312500\n",
       "              civil servant  0.025641  0.200000\n",
       "              employee       0.087683  0.094828\n",
       "              retiree        0.057604  0.046154"
      ]
     },
     "execution_count": 1141,
     "metadata": {},
     "output_type": "execute_result"
    }
   ],
   "source": [
    "df_pivot_gender = df_final.pivot_table(index=['income_bins','income_type'], \n",
    "                                    columns='gender', values='debt', aggfunc='mean')\n",
    "df_pivot_gender"
   ]
  },
  {
   "cell_type": "markdown",
   "metadata": {},
   "source": [
    "This overall tendency continues to be present in the split data: almost in every case females have a lower default rate than males, except for female retirees with income below and above average. The biggest difference between the two groups is for business people and civil servants with income below average (males are 30 and 10 times less credit worthy than females, respectively)."
   ]
  },
  {
   "cell_type": "markdown",
   "metadata": {},
   "source": [
    "# Conclusion"
   ]
  },
  {
   "cell_type": "markdown",
   "metadata": {},
   "source": [
    "In this report we have analyzed data on customers' credit worthiness in order to discover connections between various client's characteristics and their ability to payoff loans.\n",
    "\n",
    "First of all, we have familiarized ourselves with the data by performing the descriptive statistics. Then, we noticed that data is duplicated for 2 characteristics in the data set, so after making sure the data is identical in both columns for each characteristic, we made a decision to keep one of these columns. \n",
    "\n",
    "We found a few artifacts in the data set that we have corrected: rows with age = 0, negative values for 'days_employed' and number of children, rows with gender value = 'XNA'.\n",
    "\n",
    "Next step was to deal with missing values. We have missing values in two columns - 'total_income' and 'days_employed':\n",
    "- Missing income values were filled with the median value of a group based on the income type and education level. We assumed that people with the same education (e.g. secondary) but different income types (e.g. business and retiree) have different income levels.\n",
    "- Missing 'days_employed' values were filled with the median value of a group based on the age and education level. On average, the older a person is, the more years he has been working and also, the higher his education level, the higher his chances to get a job.\n",
    "\n",
    "After that we have changed data type from 'float' to 'integer' for two columns - 'days_employed' and 'total_income' - to make further analysis clearer.\n",
    "\n",
    "Next, we got rid of duplicate rows in the data set. We considered only fully identical rows to be duplicates because we don't have any column that could fully identify a customer (such as a personal id number for example).\n",
    "\n",
    "Lastly, we have performed categorization of 4 columns: 'income type', 'total income', 'purpose', 'days employed':\n",
    "- For 'income_type' we have identified 4 main groups and placed a few observations from other types into one of these main groups;\n",
    "- To simplify the analysis we categorized 'total_income' data into 3 groups: below average, average, above average. We  considered average income to be a range from (mean - std) up to (mean + std). Below average are values below that range and above average - the values above that range;\n",
    "- We identified 4 main purposes for taking a loan: wedding, real estate, car, education. Then for each row we checked if a stem of one of those groups can be found in a 'purpose' column and replaced the value with it;\n",
    "- We have grouped 'days_employed' column into 3 categories - junior, experienced and senior - based on the number of working years.\n",
    "\n",
    "In the end, we created a final data frame with only those columns that we used for our final analysis.\n",
    "Based on our analysis, some of the predicted tendencies were correct while others were not:\n",
    "\n",
    "1. Correct, the more children a client has, the higher the default rate;\n",
    "2. Correct, married people have lower default rate;\n",
    "3. Incorrect, people with average income default more often that those with income below or above average. Overall, retirees tend to default less often than others. The least risky are loans to civil servants with low or high income;\n",
    "4. Incorrect, the higher the education level, the higher the default rate;\n",
    "5. Incorrect. People do least often fail on a loan for the purpose of 'real estate' which is probably the most expensive among the 4 purposes, but the second most expensive must be education and people fail on it almost as often as on buying a car (which is on average the least expansive of all). It would be useful to see the amount of a loan in this case to make better conclusions;\n",
    "6. Correct, younger people tend to default more often on a loan while senior people (in terms of work experience) have the lowest default rates;\n",
    "7. Incorrect, women are more likely to payoff a loan. It could probably be explained by the finding that has been replicated in a variety of studies over the years that men are more inclined to take risks than women."
   ]
  }
 ],
 "metadata": {
  "kernelspec": {
   "display_name": "Python 3",
   "language": "python",
   "name": "python3"
  },
  "language_info": {
   "codemirror_mode": {
    "name": "ipython",
    "version": 3
   },
   "file_extension": ".py",
   "mimetype": "text/x-python",
   "name": "python",
   "nbconvert_exporter": "python",
   "pygments_lexer": "ipython3",
   "version": "3.7.7"
  },
  "toc": {
   "base_numbering": 1,
   "nav_menu": {},
   "number_sections": true,
   "sideBar": true,
   "skip_h1_title": true,
   "title_cell": "Table of Contents",
   "title_sidebar": "Contents",
   "toc_cell": true,
   "toc_position": {
    "height": "calc(100% - 180px)",
    "left": "10px",
    "top": "150px",
    "width": "288px"
   },
   "toc_section_display": true,
   "toc_window_display": false
  }
 },
 "nbformat": 4,
 "nbformat_minor": 4
}
